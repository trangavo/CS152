{
 "cells": [
  {
   "cell_type": "markdown",
   "metadata": {},
   "source": [
    "### Breadth-First Search in Python\n",
    "- You are required to solve the following search problem in Python using a breadth-first approach, by adding in code at the places marked \"insert code here\"\n",
    "- Each state is represented by an integer\n",
    "\n",
    "- For a state k, the two successor states are 2k and 2k+1 (in this order)\n",
    "\n",
    "- Starting at initial state 1, the goal is to reach state 1024.\n",
    "\n",
    "- This code makes use of the class deque in the collections package. You may need to look up the appropriate member functions to add and remove frontier elements."
   ]
  },
  {
   "cell_type": "code",
   "execution_count": 8,
   "metadata": {},
   "outputs": [
    {
     "name": "stdout",
     "output_type": "stream",
     "text": [
      "Breadth-first search terminated after 1023 steps\n",
      "\n",
      "Size of frontier at termination is 512\n"
     ]
    }
   ],
   "source": [
    "# [INSERT CODE HERE] Initial state\n",
    "state = 1\n",
    "\n",
    "# [INSERT CODE HERE] Define the goal here\n",
    "goal = 1024\n",
    "\n",
    "# Frontier\n",
    "from collections import deque\n",
    "frontier = deque([state])\n",
    "\n",
    "# Step counter\n",
    "steps = 0\n",
    "\n",
    "\n",
    "# Breadth-first search algorithm (continue while there are nodes in the frontier)\n",
    "while frontier:\n",
    "    \n",
    "    # [INSERT CODE HERE] Implement a breadth-first search to reach the goal state from the initial state.\n",
    "    # The search should terminate once the goal is reached.\n",
    "    # Remember to increment the step counter to keep track of how many steps the search takes!\n",
    "    # You will need to modifu the placeholder code below.\n",
    "    state = frontier.popleft()\n",
    "    steps += 1\n",
    "    left = 2*state\n",
    "    frontier.append(left)\n",
    "    if left == goal:\n",
    "        break\n",
    "    steps += 1\n",
    "    right = 2*state + 1\n",
    "    frontier.append(right)\n",
    "    if right == goal:\n",
    "        break\n",
    "    \n",
    "# [INSERT CODE HERE] Find the length of the frontier by changing the line below.\n",
    "frontier_size = len(frontier)\n",
    "    \n",
    "\n",
    "print(\"Breadth-first search terminated after %d steps\\n\" % steps)\n",
    "print(\"Size of frontier at termination is %d\" % frontier_size)"
   ]
  },
  {
   "cell_type": "code",
   "execution_count": null,
   "metadata": {},
   "outputs": [],
   "source": []
  }
 ],
 "metadata": {
  "kernelspec": {
   "display_name": "Python 3",
   "language": "python",
   "name": "python3"
  },
  "language_info": {
   "codemirror_mode": {
    "name": "ipython",
    "version": 3
   },
   "file_extension": ".py",
   "mimetype": "text/x-python",
   "name": "python",
   "nbconvert_exporter": "python",
   "pygments_lexer": "ipython3",
   "version": "3.6.8"
  }
 },
 "nbformat": 4,
 "nbformat_minor": 2
}
